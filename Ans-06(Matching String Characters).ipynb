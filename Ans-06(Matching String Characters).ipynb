{
 "cells": [
  {
   "cell_type": "markdown",
   "metadata": {},
   "source": [
    "# 6.\tWrite a function called matches that takes two strings as arguments and returns how many matches there are between the strings. A match is where the two strings have the same character at the same index. For instance, ' python ' and ' path ' match in the first, third, and fourth characters, so the function should return 3."
   ]
  },
  {
   "cell_type": "code",
   "execution_count": 46,
   "metadata": {},
   "outputs": [
    {
     "name": "stdout",
     "output_type": "stream",
     "text": [
      "Number of Matching String Characters are : 3\n"
     ]
    }
   ],
   "source": [
    "# Python code to count number of unique matching characters in a pair of strings \n",
    "\n",
    "def matches(string1,string2):\n",
    "    str1 = set(string1) # set of characters of string1 \n",
    "    str2 = set(string2) # set of characters of string2 \n",
    "  \n",
    "    matched_characters = str1 & str2 # Here both of the strings are stored in matched_characters variable \n",
    "    \n",
    "    # printing the length of matched_characters variable and gives the numbers of matched characters \n",
    "    print(\"Number of Matching String Characters are : \" +str(len(matched_characters)))\n",
    "\n",
    "matches('TALK','WALK') # calling function"
   ]
  },
  {
   "cell_type": "code",
   "execution_count": null,
   "metadata": {},
   "outputs": [],
   "source": []
  }
 ],
 "metadata": {
  "kernelspec": {
   "display_name": "Python 2",
   "language": "python",
   "name": "python2"
  },
  "language_info": {
   "codemirror_mode": {
    "name": "ipython",
    "version": 2
   },
   "file_extension": ".py",
   "mimetype": "text/x-python",
   "name": "python",
   "nbconvert_exporter": "python",
   "pygments_lexer": "ipython2",
   "version": "2.7.15"
  }
 },
 "nbformat": 4,
 "nbformat_minor": 2
}
