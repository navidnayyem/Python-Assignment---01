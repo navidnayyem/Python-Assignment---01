{
 "cells": [
  {
   "cell_type": "markdown",
   "metadata": {},
   "source": [
    "# 5.\tWrite a function that takes an integer n and returns a random integer with exactly n digits. For instance, if n is 3, then 125 and 593 would be valid return values, but 093 would not because that is really 93, which is a two-digit number."
   ]
  },
  {
   "cell_type": "code",
   "execution_count": 1,
   "metadata": {},
   "outputs": [
    {
     "name": "stdout",
     "output_type": "stream",
     "text": [
      "Enter a Number to Find Random Integers: 5\n",
      "42259\n"
     ]
    }
   ],
   "source": [
    "from random import randint # library to generate random number\n",
    "\n",
    "def random_with_N_digits(): # Here random_with_N_digits is the function name\n",
    "  n = input(\"Enter a Number to Find Random Integers: \") # taking input from user\n",
    "  start_range = 10**(n-1) # It is the starting range\n",
    "  end_range = (10**n)-1   # It is the ending range\n",
    "  return randint(start_range, end_range)\n",
    "print random_with_N_digits()"
   ]
  },
  {
   "cell_type": "code",
   "execution_count": null,
   "metadata": {},
   "outputs": [],
   "source": []
  }
 ],
 "metadata": {
  "kernelspec": {
   "display_name": "Python 2",
   "language": "python",
   "name": "python2"
  },
  "language_info": {
   "codemirror_mode": {
    "name": "ipython",
    "version": 2
   },
   "file_extension": ".py",
   "mimetype": "text/x-python",
   "name": "python",
   "nbconvert_exporter": "python",
   "pygments_lexer": "ipython2",
   "version": "2.7.15"
  }
 },
 "nbformat": 4,
 "nbformat_minor": 2
}
