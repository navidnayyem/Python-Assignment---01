{
 "cells": [
  {
   "cell_type": "markdown",
   "metadata": {},
   "source": [
    "# 7.\tWrite a function called primes that is given a number n and returns a list of the first n primes. Let the default value of n be 100."
   ]
  },
  {
   "cell_type": "code",
   "execution_count": 5,
   "metadata": {},
   "outputs": [
    {
     "name": "stdout",
     "output_type": "stream",
     "text": [
      "List of the First 100 Primes:  2 3 5 7 11 13 17 19 23 29 31 37 41 43 47 53 59 61 67 71 73 79 83 89 97\n"
     ]
    }
   ],
   "source": [
    "def primes(n): # primes is the function name and n is the given number\n",
    "    print \"List of the First\",n,\"Primes: \",\n",
    "    \n",
    "    for number in range (2,n): # Here (2,n) means that the range starts from 2 to n as 1 will not be a prime number\n",
    "        isPrime = True\n",
    "        for i in range(2,number):\n",
    "            if (number % i == 0): # checking prime number\n",
    "                isPrime = False\n",
    "        if (isPrime == True):\n",
    "            print(number), # output of the prime numbers horizontally\n",
    "\n",
    "primes(100) # calling function with n = 100"
   ]
  },
  {
   "cell_type": "code",
   "execution_count": null,
   "metadata": {},
   "outputs": [],
   "source": []
  }
 ],
 "metadata": {
  "kernelspec": {
   "display_name": "Python 2",
   "language": "python",
   "name": "python2"
  },
  "language_info": {
   "codemirror_mode": {
    "name": "ipython",
    "version": 2
   },
   "file_extension": ".py",
   "mimetype": "text/x-python",
   "name": "python",
   "nbconvert_exporter": "python",
   "pygments_lexer": "ipython2",
   "version": "2.7.15"
  }
 },
 "nbformat": 4,
 "nbformat_minor": 2
}
