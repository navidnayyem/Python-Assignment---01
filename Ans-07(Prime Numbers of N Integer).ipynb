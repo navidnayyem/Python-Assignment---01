{
 "cells": [
  {
   "cell_type": "markdown",
   "metadata": {},
   "source": [
    "# 7. Write a function called primes that is given a number n and returns a list of the first n primes. Let the default value of n be 100."
   ]
  },
  {
   "cell_type": "code",
   "execution_count": 7,
   "metadata": {},
   "outputs": [
    {
     "name": "stdout",
     "output_type": "stream",
     "text": [
      "List of the First 100 Prime Numbers:  2 3 5 7 11 13 17 19 23 29 31 37 41 43 47 53 59 61 67 71 73 79 83 89 97 101 103 107 109 113 127 131 137 139 149 151 157 163 167 173 179 181 191 193 197 199 211 223 227 229 233 239 241 251 257 263 269 271 277 281 283 293 307 311 313 317 331 337 347 349 353 359 367 373 379 383 389 397 401 409 419 421 431 433 439 443 449 457 461 463 467 479 487 491 499 503 509 521 523 541\n"
     ]
    }
   ],
   "source": [
    "def main(): \n",
    "    print \"List of the First 100 Prime Numbers: \",\n",
    "    count = 0\n",
    "    n = 0\n",
    "\n",
    "    while count < 100:\n",
    "        if primes(n):\n",
    "            count = count + 1\n",
    "            print n,  # output of the prime numbers horizontally\n",
    "        n = n + 1\n",
    "\n",
    "def primes(n): # primes is the function name and n is the given number\n",
    "    result = True\n",
    "\n",
    "    for i in range(2,n):\n",
    "        if n % i == 0: # checking prime number\n",
    "            result = False\n",
    "            break\n",
    "\n",
    "    if n <= 1:\n",
    "        result = False\n",
    "    \n",
    "    return result\n",
    "\n",
    "main() # calling main function"
   ]
  },
  {
   "cell_type": "code",
   "execution_count": null,
   "metadata": {},
   "outputs": [],
   "source": []
  }
 ],
 "metadata": {
  "kernelspec": {
   "display_name": "Python 2",
   "language": "python",
   "name": "python2"
  },
  "language_info": {
   "codemirror_mode": {
    "name": "ipython",
    "version": 2
   },
   "file_extension": ".py",
   "mimetype": "text/x-python",
   "name": "python",
   "nbconvert_exporter": "python",
   "pygments_lexer": "ipython2",
   "version": "2.7.15"
  }
 },
 "nbformat": 4,
 "nbformat_minor": 2
}
