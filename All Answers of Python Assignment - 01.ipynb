{
 "cells": [
  {
   "cell_type": "markdown",
   "metadata": {},
   "source": [
    "# Q.1. Write a function called rectangle that takes two integers m and n as arguments and prints out an m × n box consisting of asterisks."
   ]
  },
  {
   "cell_type": "code",
   "execution_count": 2,
   "metadata": {},
   "outputs": [
    {
     "name": "stdout",
     "output_type": "stream",
     "text": [
      "* * * * * * * * * * * *  \n",
      "* * * * * * * * * * * *  \n",
      "* * * * * * * * * * * *  \n",
      "* * * * * * * * * * * *  \n",
      "* * * * * * * * * * * *  \n",
      "* * * * * * * * * * * *  \n",
      "* * * * * * * * * * * *  \n"
     ]
    }
   ],
   "source": [
    "def rectangle(m,n): # Here m is the row and n is the column\n",
    "  for row in range(m):\n",
    "      for col in range(n):\n",
    "         print(\"*\"),\n",
    "      print(\" \")\n",
    "\n",
    "rectangle(7,12) # 7 rows and 12 columns of stars will be the output"
   ]
  },
  {
   "cell_type": "markdown",
   "metadata": {},
   "source": [
    "# Q.2. Write a function called add_excitement that takes a list of strings and adds an exclamation point ( ! ) to the end of each string in the list. The program should modify the original list and not return anything."
   ]
  },
  {
   "cell_type": "code",
   "execution_count": 4,
   "metadata": {},
   "outputs": [
    {
     "name": "stdout",
     "output_type": "stream",
     "text": [
      "Enter the Strings and Add Exclamation Point at the End of Each String: \n",
      "Python! Programming!\n",
      " Python Programming\n"
     ]
    }
   ],
   "source": [
    "def add_excitement(): #Here add_excitement is the function name\n",
    "    print('Enter the Strings and Add Exclamation Point at the End of Each String: ')\n",
    "    s = raw_input() #take strings input from the user\n",
    "    \n",
    "    exclamationpoint = '!' # declare exclamatory sign \n",
    "    no_exclamationpoint = \" \" # declare no sign of exclamatory\n",
    "    \n",
    "    for strings in s:\n",
    "        if strings not in exclamationpoint: # when exclamatory point is not included in string\n",
    "            no_exclamationpoint = no_exclamationpoint + strings\n",
    "\n",
    "    print(no_exclamationpoint) #printing the output with no exclamatory sign at the end of every string\n",
    "    \n",
    "add_excitement() #calling function"
   ]
  },
  {
   "cell_type": "markdown",
   "metadata": {},
   "source": [
    "# Q.3. Write the same function except that it should not modify the original list and should instead return a new list."
   ]
  },
  {
   "cell_type": "code",
   "execution_count": 6,
   "metadata": {},
   "outputs": [
    {
     "name": "stdout",
     "output_type": "stream",
     "text": [
      "Enter the String: \n",
      "Python! Programming!\n",
      "\n",
      "Returning New List from the Inputted String: \n"
     ]
    },
    {
     "data": {
      "text/plain": [
       "'Python! Programming!'"
      ]
     },
     "execution_count": 6,
     "metadata": {},
     "output_type": "execute_result"
    }
   ],
   "source": [
    "def add_excitement(): #Here add_excitement is the function name\n",
    "    print('Enter the String: ')\n",
    "    s = raw_input() #take string input from the user\n",
    "    \n",
    "    print('\\nReturning New List from the Inputted String: ')\n",
    "    return s # return the inputted string from the user\n",
    "    \n",
    "add_excitement() #calling function"
   ]
  },
  {
   "cell_type": "markdown",
   "metadata": {},
   "source": [
    "# Q.4. The digital root of a number n is obtained as follows: Add up the digits n to get a new number. Add up the digits of that to get another new number. Keep doing this until you get a number that has only one digit. That number is the digital root. For example, if n = 45893 , we add up the digits to get 4 + 5 + 8 + 9 + 3 = 29 . We then add up the digits of 29 to get 2 + 9 = 11 . We then add up the digits of 11 to get 1 + 1 = 2 . Since 2 has only one digit, 2 is our digital root. Write a function that returns the digital root of an integer n . [Note: there is a shortcut, where the digital root is equal to n mod 9, but do not use that here.]"
   ]
  },
  {
   "cell_type": "code",
   "execution_count": 14,
   "metadata": {},
   "outputs": [
    {
     "name": "stdout",
     "output_type": "stream",
     "text": [
      "Digital Root: \n"
     ]
    },
    {
     "data": {
      "text/plain": [
       "8"
      ]
     },
     "execution_count": 14,
     "metadata": {},
     "output_type": "execute_result"
    }
   ],
   "source": [
    "# Python program to find sum of digits of a number until sum becomes single digit. \n",
    "import math  # Importing Python Math Library for Mathematics Functions\n",
    "\n",
    "def digitalroot(n): # Here digitalroot is the function name\n",
    "    sum = 0\n",
    "      \n",
    "    while(n > 0 or sum > 9): # For Finding Digital Root, Inputted number must be greater than zero \n",
    "                             # and the sum of the digits must be greater than 9\n",
    "            \n",
    "        if(n == 0): # If the inputted number,n is zero then the sum will be zero\n",
    "            n = sum\n",
    "            sum = 0\n",
    "        #else if the inputted number is greater than zero \n",
    "        sum = sum + (n % 10)\n",
    "        n = n/10\n",
    "    \n",
    "    print \"Digital Root: \"\n",
    "    return sum\n",
    "\n",
    "digitalroot(98765) #calling function"
   ]
  },
  {
   "cell_type": "markdown",
   "metadata": {},
   "source": [
    "Description:\n",
    "\n",
    "Here n = 98765 is inputted and the output comes 8. Firstly, each of the digits of this number is added (9+8+7+6+5=35). Secondly, each of the digits of 35 is added (3+5=8). Since 8 has only one digit, 8 is the digital root.\n",
    "\n",
    "How it Calculates for the Output of (8):\n",
    "\n",
    "sum = (98765 % 10) = 5\n",
    "\n",
    "n = (98765 / 10) = 9876\n",
    "\n",
    "sum = 5 + (9876 % 10) = 6\n",
    "\n",
    "n = (9876 / 10) = 987\n",
    "\n",
    "sum = 6 + (987 % 10) = 7\n",
    "\n",
    "n = (987 / 10) = 98\n",
    "\n",
    "sum = 7 + (98 % 10) = 8\n",
    "\n",
    "n = (98 / 10) = 9\n",
    "\n",
    "sum = 8 + (9 % 10) = 9\n",
    "\n",
    "n = (9 / 10) = 0\n",
    "\n",
    "Therefore,the Sum of Digits is 9+8+7+6+5=35 then 3+5=8. Now, 8 is the single digit which is lower than 10, so the function stops calling,return the sum and the output is 8."
   ]
  },
  {
   "cell_type": "markdown",
   "metadata": {},
   "source": [
    "# Q.5. Write a function that takes an integer n and returns a random integer with exactly n digits. For instance, if n is 3, then 125 and 593 would be valid return values, but 093 would not because that is really 93, which is a two-digit number."
   ]
  },
  {
   "cell_type": "code",
   "execution_count": 15,
   "metadata": {},
   "outputs": [
    {
     "name": "stdout",
     "output_type": "stream",
     "text": [
      "Enter a Number to Find Random Integers: 4\n",
      "\n",
      "The 4 Digit Number = 2103\n"
     ]
    }
   ],
   "source": [
    "from random import randint # library to generate random number\n",
    "\n",
    "def random_with_N_digits(): # Here random_with_N_digits is the function name\n",
    "    n = input(\"Enter a Number to Find Random Integers: \") # taking input from user\n",
    "    start_range = 10**(n-1) # It is the starting range\n",
    "    end_range = (10**n)-1   # It is the ending range\n",
    "    print '\\nThe',n,'Digit Number =',randint(start_range,end_range)\n",
    "random_with_N_digits()"
   ]
  },
  {
   "cell_type": "markdown",
   "metadata": {},
   "source": [
    "# Q.6. Write a function called matches that takes two strings as arguments and returns how many matches there are between the strings. A match is where the two strings have the same character at the same index. For instance, ' python ' and ' path ' match in the first, third, and fourth characters, so the function should return 3."
   ]
  },
  {
   "cell_type": "code",
   "execution_count": 16,
   "metadata": {},
   "outputs": [
    {
     "name": "stdout",
     "output_type": "stream",
     "text": [
      "Number of Matching String Characters are : 3\n"
     ]
    }
   ],
   "source": [
    "# Python code to count number of unique matching characters in a pair of strings \n",
    "\n",
    "def matches(string1,string2):\n",
    "    str1 = set(string1) # set of characters of string1 \n",
    "    str2 = set(string2) # set of characters of string2 \n",
    "  \n",
    "    matched_characters = str1 & str2 # Here both of the strings are stored in matched_characters variable \n",
    "    \n",
    "    # printing the length of matched_characters variable and gives the numbers of matched characters \n",
    "    print(\"Number of Matching String Characters are : \" +str(len(matched_characters)))\n",
    "\n",
    "matches('TALK','WALK') # calling function"
   ]
  },
  {
   "cell_type": "markdown",
   "metadata": {},
   "source": [
    "# Q.7. Write a function called primes that is given a number n and returns a list of the first n primes. Let the default value of n be 100."
   ]
  },
  {
   "cell_type": "code",
   "execution_count": 18,
   "metadata": {},
   "outputs": [
    {
     "name": "stdout",
     "output_type": "stream",
     "text": [
      "List of the First 100 Prime Numbers: \n",
      "2 3 5 7 11 13 17 19 23 29 31 37 41 43 47 53 59 61 67 71 73 79 83 89 97 101 103 107 109 113 127 131 137 139 149 151 157 163 167 173 179 181 191 193 197 199 211 223 227 229 233 239 241 251 257 263 269 271 277 281 283 293 307 311 313 317 331 337 347 349 353 359 367 373 379 383 389 397 401 409 419 421 431 433 439 443 449 457 461 463 467 479 487 491 499 503 509 521 523 541\n"
     ]
    }
   ],
   "source": [
    "def main(): \n",
    "    print \"List of the First 100 Prime Numbers: \"\n",
    "    count = 0\n",
    "    n = 0\n",
    "\n",
    "    while count < 100:\n",
    "        if primes(n):\n",
    "            count = count + 1\n",
    "            print n,  # output of the prime numbers horizontally\n",
    "        n = n + 1\n",
    "\n",
    "def primes(n): # primes is the function name and n is the given number\n",
    "    result = True\n",
    "\n",
    "    for i in range(2,n):\n",
    "        if n % i == 0: # checking prime number\n",
    "            result = False\n",
    "            break\n",
    "\n",
    "    if n <= 1:\n",
    "        result = False\n",
    "    \n",
    "    return result\n",
    "\n",
    "main() # calling main function"
   ]
  },
  {
   "cell_type": "markdown",
   "metadata": {},
   "source": [
    "# Q.8. Recall that if s is a string, then s.find( ' a ' ) will find the location of the first a in s . The problem is that it does not find the location of every a. Write a function called findall that given a string and a single character, returns a list containing all of the locations of that character in the string. It should return an empty list if there are no occurrences of the character in the string."
   ]
  },
  {
   "cell_type": "code",
   "execution_count": 19,
   "metadata": {},
   "outputs": [
    {
     "name": "stdout",
     "output_type": "stream",
     "text": [
      "Locations of a are:  12 16 18\n"
     ]
    }
   ],
   "source": [
    "def findall(): # findall is the function name\n",
    "    s = 'Position of a Character' # given string and string always starts from index 0\n",
    "    char_location = -1\n",
    "    print 'Locations of a are: ',\n",
    "    while True:\n",
    "        char_location = s.find('a', char_location + 1) # find() is the string method used for searching strings. \n",
    "                                                       # Here the string will search for the location of character 'a' \n",
    "        \n",
    "        if char_location == -1: # when the search string isn't found\n",
    "            break               # this statement will exit out of the loop and return empty list\n",
    "        else:                   # when the search string is found\n",
    "            yield char_location # yield is a keyword that is used like return, except the function will return a generator.\n",
    "            \n",
    "for char_location in findall():\n",
    "    print (char_location), # gives the output of every location of a single string"
   ]
  },
  {
   "cell_type": "markdown",
   "metadata": {},
   "source": [
    "find() is the string method used for searching strings.In find() string method when the search string is not found, it returns -1."
   ]
  },
  {
   "cell_type": "code",
   "execution_count": null,
   "metadata": {},
   "outputs": [],
   "source": []
  }
 ],
 "metadata": {
  "kernelspec": {
   "display_name": "Python 2",
   "language": "python",
   "name": "python2"
  },
  "language_info": {
   "codemirror_mode": {
    "name": "ipython",
    "version": 2
   },
   "file_extension": ".py",
   "mimetype": "text/x-python",
   "name": "python",
   "nbconvert_exporter": "python",
   "pygments_lexer": "ipython2",
   "version": "2.7.15"
  }
 },
 "nbformat": 4,
 "nbformat_minor": 2
}
