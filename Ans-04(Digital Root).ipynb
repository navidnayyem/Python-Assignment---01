{
 "cells": [
  {
   "cell_type": "markdown",
   "metadata": {},
   "source": [
    "# 4.\tThe digital root of a number n is obtained as follows: Add up the digits n to get a new number. Add up the digits of that to get another new number. Keep doing this until you get a number that has only one digit. That number is the digital root. For example, if n = 45893 , we add up the digits to get 4 + 5 + 8 + 9 + 3 = 29 . We then add up the digits of 29 to get 2 + 9 = 11 . We then add up the digits of 11 to get 1 + 1 = 2 . Since 2 has only one digit, 2 is our digital root. Write a function that returns the digital root of an integer n . [Note: there is a shortcut, where the digital root is equal to n mod 9, but do not use that here.]"
   ]
  },
  {
   "cell_type": "code",
   "execution_count": 19,
   "metadata": {},
   "outputs": [
    {
     "name": "stdout",
     "output_type": "stream",
     "text": [
      "Digital Root:   8\n"
     ]
    },
    {
     "data": {
      "text/plain": [
       "8"
      ]
     },
     "execution_count": 19,
     "metadata": {},
     "output_type": "execute_result"
    }
   ],
   "source": [
    "# Python program to find sum of digits of a number until sum becomes single digit. \n",
    "import math  # Importing Python Math Library for Mathematics Functions\n",
    "\n",
    "def digitalroot(n): # Here digitalroot is the function name\n",
    "    sum = 0\n",
    "      \n",
    "    while(n > 0 or sum > 9): # For Finding Digital Root, Inputted number must be greater than zero \n",
    "                             # and the sum of the digits must be greater than 9\n",
    "            \n",
    "        if(n == 0): # If the inputted number,n is zero then the sum will be zero\n",
    "            n = sum\n",
    "            sum = 0\n",
    "        #else if the inputted number is greater than zero \n",
    "        sum = sum + (n % 10)\n",
    "        n = n/10\n",
    "    \n",
    "    print \"Digital Root:  \", sum\n",
    "    return sum\n",
    "\n",
    "digitalroot(98765) #calling function"
   ]
  },
  {
   "cell_type": "markdown",
   "metadata": {},
   "source": [
    "Description:\n",
    "\n",
    "Here n = 98765 is inputted and the output comes 8.\n",
    "Firstly, each of the digits of this number is added (9+8+7+6+5=35). \n",
    "Secondly, each of the digits of 35 is added (3+5=8). Since 8 has only one digit, 8 is the digital root.\n",
    "\n",
    "How it Calculates for the Output of (8):\n",
    "\n",
    "sum = (98765 % 10) = 5\n",
    "\n",
    "n = (98765 / 10) = 9876\n",
    "\n",
    "sum = (9876 % 10) = 6\n",
    "\n",
    "n = (9876 / 10) = 987\n",
    "\n",
    "sum = (987 % 10) = 7\n",
    "\n",
    "n = (987 / 10) = 98\n",
    "\n",
    "sum = (98 % 10) = 8\n",
    "\n",
    "n = (98 / 10) = 9\n",
    "\n",
    "sum = (9 % 10) = 9\n",
    "\n",
    "n = (9 / 10) = 0\n",
    "\n",
    "Therefore,the Sum of Digits is 9+8+7+6+5=35 then 3+5=8. Now, 8 is the single digit which is lower than 10, so the function stops calling,return the sum and the output is 8."
   ]
  }
 ],
 "metadata": {
  "kernelspec": {
   "display_name": "Python 2",
   "language": "python",
   "name": "python2"
  },
  "language_info": {
   "codemirror_mode": {
    "name": "ipython",
    "version": 2
   },
   "file_extension": ".py",
   "mimetype": "text/x-python",
   "name": "python",
   "nbconvert_exporter": "python",
   "pygments_lexer": "ipython2",
   "version": "2.7.15"
  }
 },
 "nbformat": 4,
 "nbformat_minor": 2
}
