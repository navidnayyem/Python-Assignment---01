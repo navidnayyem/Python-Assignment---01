{
 "cells": [
  {
   "cell_type": "markdown",
   "metadata": {},
   "source": [
    "# 2.\tWrite a function called add_excitement that takes a list of strings and adds an exclamation point ( ! ) to the end of each string in the list. The program should modify the original list and not return anything."
   ]
  },
  {
   "cell_type": "code",
   "execution_count": 10,
   "metadata": {},
   "outputs": [
    {
     "name": "stdout",
     "output_type": "stream",
     "text": [
      "Enter the Strings and Add Exclamation Point at the End of Each String: \n",
      "Python! Programming!\n",
      " Python Programming\n"
     ]
    }
   ],
   "source": [
    "def add_excitement(): #Here add_excitement is the function name\n",
    "    print('Enter the Strings and Add Exclamation Point at the End of Each String: ')\n",
    "    s = raw_input() #take strings input from the user\n",
    "    \n",
    "    exclamationpoint = '!' # declare exclamatory sign \n",
    "    no_exclamationpoint = \" \" # declare no sign of exclamatory\n",
    "    \n",
    "    for strings in s:\n",
    "        if strings not in exclamationpoint: # when exclamatory point is not included in string\n",
    "            no_exclamationpoint = no_exclamationpoint + strings\n",
    "\n",
    "    print(no_exclamationpoint) #printing the output with no exclamatory sign at the end of every string\n",
    "    \n",
    "add_excitement() #calling function"
   ]
  },
  {
   "cell_type": "code",
   "execution_count": null,
   "metadata": {},
   "outputs": [],
   "source": []
  }
 ],
 "metadata": {
  "kernelspec": {
   "display_name": "Python 2",
   "language": "python",
   "name": "python2"
  },
  "language_info": {
   "codemirror_mode": {
    "name": "ipython",
    "version": 2
   },
   "file_extension": ".py",
   "mimetype": "text/x-python",
   "name": "python",
   "nbconvert_exporter": "python",
   "pygments_lexer": "ipython2",
   "version": "2.7.15"
  }
 },
 "nbformat": 4,
 "nbformat_minor": 2
}
