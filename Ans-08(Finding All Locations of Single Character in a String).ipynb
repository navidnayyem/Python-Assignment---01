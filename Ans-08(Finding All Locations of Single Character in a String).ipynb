{
 "cells": [
  {
   "cell_type": "markdown",
   "metadata": {},
   "source": [
    "# 8.\tRecall that if s is a string, then s.find( ' a ' ) will find the location of the first a in s . The problem is that it does not find the location of every a. Write a function called findall that given a string and a single character, returns a list containing all of the locations of that character in the string. It should return an empty list if there are no occurrences of the character in the string."
   ]
  },
  {
   "cell_type": "code",
   "execution_count": 50,
   "metadata": {},
   "outputs": [
    {
     "name": "stdout",
     "output_type": "stream",
     "text": [
      "Locations of a are:  12 16 18\n"
     ]
    }
   ],
   "source": [
    "def findall(): # findall is the function name\n",
    "    s = 'Position of a Character' # given string and string always starts from index 0\n",
    "    char_location = -1\n",
    "    print 'Locations of a are: ',\n",
    "    while True:\n",
    "        char_location = s.find('a', char_location + 1) # find() is the string method used for searching strings. \n",
    "                                                       # Here the string will search for the location of character 'a' \n",
    "        \n",
    "        if char_location == -1: # when the search string isn't found\n",
    "            break               # this statement will exit out of the loop and return empty list\n",
    "        else:                   # when the search string is found\n",
    "            yield char_location # yield is a keyword that is used like return, except the function will return a generator.\n",
    "            \n",
    "for char_location in findall():\n",
    "    print (char_location), # gives the output of every location of a single string"
   ]
  },
  {
   "cell_type": "markdown",
   "metadata": {},
   "source": [
    "find() is the string method used for searching strings.In find() string method when the search string is not found, it returns -1."
   ]
  }
 ],
 "metadata": {
  "kernelspec": {
   "display_name": "Python 2",
   "language": "python",
   "name": "python2"
  },
  "language_info": {
   "codemirror_mode": {
    "name": "ipython",
    "version": 2
   },
   "file_extension": ".py",
   "mimetype": "text/x-python",
   "name": "python",
   "nbconvert_exporter": "python",
   "pygments_lexer": "ipython2",
   "version": "2.7.15"
  }
 },
 "nbformat": 4,
 "nbformat_minor": 2
}
